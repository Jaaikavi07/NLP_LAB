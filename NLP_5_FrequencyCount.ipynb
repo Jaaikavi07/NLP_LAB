{
  "nbformat": 4,
  "nbformat_minor": 0,
  "metadata": {
    "colab": {
      "provenance": []
    },
    "kernelspec": {
      "name": "python3",
      "display_name": "Python 3"
    },
    "language_info": {
      "name": "python"
    }
  },
  "cells": [
    {
      "cell_type": "code",
      "execution_count": 1,
      "metadata": {
        "id": "428g3nG4xaRK"
      },
      "outputs": [],
      "source": [
        "from collections import Counter\n",
        "from nltk.corpus import stopwords"
      ]
    },
    {
      "cell_type": "code",
      "source": [
        "!pip install nltk\n",
        "import nltk"
      ],
      "metadata": {
        "colab": {
          "base_uri": "https://localhost:8080/"
        },
        "id": "zNu9jC-1xefA",
        "outputId": "e6ec291c-397b-42ec-cf23-c513f96192cc"
      },
      "execution_count": 2,
      "outputs": [
        {
          "output_type": "stream",
          "name": "stdout",
          "text": [
            "Requirement already satisfied: nltk in /usr/local/lib/python3.10/dist-packages (3.8.1)\n",
            "Requirement already satisfied: click in /usr/local/lib/python3.10/dist-packages (from nltk) (8.1.7)\n",
            "Requirement already satisfied: joblib in /usr/local/lib/python3.10/dist-packages (from nltk) (1.4.0)\n",
            "Requirement already satisfied: regex>=2021.8.3 in /usr/local/lib/python3.10/dist-packages (from nltk) (2023.12.25)\n",
            "Requirement already satisfied: tqdm in /usr/local/lib/python3.10/dist-packages (from nltk) (4.66.2)\n"
          ]
        }
      ]
    },
    {
      "cell_type": "code",
      "source": [
        "nltk.download('stopwords')\n",
        "stop_words = stopwords.words('english')"
      ],
      "metadata": {
        "colab": {
          "base_uri": "https://localhost:8080/"
        },
        "id": "kZ5IUqBPxgwU",
        "outputId": "0eb45d5b-dfb0-4887-ccfa-7eb25b881d9c"
      },
      "execution_count": 3,
      "outputs": [
        {
          "output_type": "stream",
          "name": "stderr",
          "text": [
            "[nltk_data] Downloading package stopwords to /root/nltk_data...\n",
            "[nltk_data]   Unzipping corpora/stopwords.zip.\n"
          ]
        }
      ]
    },
    {
      "cell_type": "code",
      "source": [
        "sentence = \"\"\"\"\n",
        "We used to camp in Wales, but we won’t be going back anytime soon, not after what happened to a kid called Alexander and some of his friends.\n",
        "\n",
        "Alexander was ten at the time and so were his friends. They were sitting on a log by the fire, roasting marshmallows while their dads were drinking behind some tents. Soon after, they were playing tag, darting and dashing around as the owls screeched in the distance and the crickets were chirping. Leaves were crunching under their feet like crisp packets.\n",
        "\n",
        "Night fell quickly and the full moon was shining as bright as a diamond. They were still playing tag and Alexander chased his friends into the woods, dodging and diving through the old, gnarled trees, and skimming the moss-covered logs. Suddenly, they came upon a clearing in the middle of the forest. There they saw a basket swing swaying in the breeze. The children jumped around in excitement and raced over to the swing. All of them got on and it started swinging automatically. They were having so much fun that they didn’t notice that the ground started to steadily open up.\n",
        "\n",
        "The children were having the time of their lives but didn’t realise they were on the deadliest swing on earth. All of sudden, the ropes snapped and they plummeted into the hole of doom! It was pitch black but then they saw a blue light shining below their feet. Rising and rising came the blue light and an ear-piercing screech filled their ears. It was a gigantic, slimy, blue monster ready to gobble them up. The monster had suckers on his tentacles like a Dyson hoover on a turbo setting. It gripped them at every angle and rapidly pulled them into his mega mouth. The children shrieked and wailed as their nightmare came alive and tormented their minds, but no one could hear their cries.\n",
        "\n",
        "At that moment, the dads realised the kids had hurtled off into the forest. All night the dads searched every single inch of the forest worried for the lives of their children.\n",
        "\n",
        "The next day, they continued searching but there were no clues to guide them to find their lost children. They began to lose hope and started to give up. \"\"\""
      ],
      "metadata": {
        "id": "l-_1cS9YxicI"
      },
      "execution_count": 4,
      "outputs": []
    },
    {
      "cell_type": "code",
      "source": [
        "stop_words = stopwords.words('english')\n",
        "words = [word.lower() for word in sentence.split() if word.isalpha()]\n",
        "filtered_words = [word for word in words if word not in stop_words]\n",
        "word_counts = Counter(filtered_words)"
      ],
      "metadata": {
        "id": "w7wcG_kexj7x"
      },
      "execution_count": 5,
      "outputs": []
    },
    {
      "cell_type": "code",
      "source": [
        "print(\"Word Frequency Table:\")\n",
        "print(\"{:<20} {:>5}\".format(\"Word\", \"Count\"))\n",
        "print(\"-\" * 25)\n",
        "for word, count in word_counts.most_common(10):\n",
        "  print(\"{:<20} {:>5}\".format(word, count))\n"
      ],
      "metadata": {
        "colab": {
          "base_uri": "https://localhost:8080/"
        },
        "id": "INgj1jRBxld5",
        "outputId": "cf470379-79fe-4e2b-f01c-d758fb586498"
      },
      "execution_count": 6,
      "outputs": [
        {
          "output_type": "stream",
          "name": "stdout",
          "text": [
            "Word Frequency Table:\n",
            "Word                 Count\n",
            "-------------------------\n",
            "alexander                3\n",
            "dads                     3\n",
            "came                     3\n",
            "children                 3\n",
            "started                  3\n",
            "blue                     3\n",
            "time                     2\n",
            "playing                  2\n",
            "around                   2\n",
            "like                     2\n"
          ]
        }
      ]
    }
  ]
}