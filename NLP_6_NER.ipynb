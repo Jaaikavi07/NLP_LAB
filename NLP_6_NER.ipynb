{
  "nbformat": 4,
  "nbformat_minor": 0,
  "metadata": {
    "colab": {
      "provenance": []
    },
    "kernelspec": {
      "name": "python3",
      "display_name": "Python 3"
    },
    "language_info": {
      "name": "python"
    }
  },
  "cells": [
    {
      "cell_type": "code",
      "execution_count": 1,
      "metadata": {
        "id": "k09_yb073yXI"
      },
      "outputs": [],
      "source": [
        "import spacy"
      ]
    },
    {
      "cell_type": "code",
      "source": [
        "nlp = spacy.load(\"en_core_web_sm\")\n",
        "\n",
        "text = \"\"\"\n",
        "Bob is an ordinary jellyfish in an ordinary school.\n",
        "One day, Bob was watching the kids play football and asked Lucy and Josh if he could play.\n",
        "They said “No!” Bob was confused why he could not play. They yelled “You can’t play because you’re ugly, smelly and a yellow jellyfish!”\n",
        "Lucy Boomed “And we do not like yellow jellyfishes, go away!”\n",
        "\"\"\""
      ],
      "metadata": {
        "id": "UKVMyDyE4Jo2"
      },
      "execution_count": 2,
      "outputs": []
    },
    {
      "cell_type": "code",
      "source": [
        "doc = nlp(text)\n",
        "\n",
        "characters = {}\n",
        "for entity in doc.ents:\n",
        "  if entity.label_ == \"PERSON\":\n",
        "    name = entity.text\n",
        "    if name in characters:\n",
        "      characters[name] += 1\n",
        "    else:\n",
        "      characters[name] = 1\n",
        "\n",
        "if characters:\n",
        "  most_frequent = max(characters, key=characters.get)\n",
        "  print(\"Most Frequent Character:\", most_frequent)\n",
        "else:\n",
        "  print(\"No characters found in the text.\")\n"
      ],
      "metadata": {
        "colab": {
          "base_uri": "https://localhost:8080/"
        },
        "id": "x03H5TUd4byV",
        "outputId": "2d4f0e5b-9361-4c7d-ce18-a19834de7079"
      },
      "execution_count": 3,
      "outputs": [
        {
          "output_type": "stream",
          "name": "stdout",
          "text": [
            "Most Frequent Character: Bob\n"
          ]
        }
      ]
    },
    {
      "cell_type": "code",
      "source": [],
      "metadata": {
        "id": "ZD93M5bN4dqX"
      },
      "execution_count": null,
      "outputs": []
    }
  ]
}