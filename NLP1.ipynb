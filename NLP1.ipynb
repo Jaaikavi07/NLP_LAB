{
  "nbformat": 4,
  "nbformat_minor": 0,
  "metadata": {
    "colab": {
      "provenance": []
    },
    "kernelspec": {
      "name": "python3",
      "display_name": "Python 3"
    },
    "language_info": {
      "name": "python"
    }
  },
  "cells": [
    {
      "cell_type": "code",
      "source": [
        "pip install nltk"
      ],
      "metadata": {
        "colab": {
          "base_uri": "https://localhost:8080/"
        },
        "id": "H11lPghjgv6Z",
        "outputId": "a1ad8c93-57f4-4038-fc95-02bdba309d03"
      },
      "execution_count": 1,
      "outputs": [
        {
          "output_type": "stream",
          "name": "stdout",
          "text": [
            "Requirement already satisfied: nltk in /usr/local/lib/python3.10/dist-packages (3.8.1)\n",
            "Requirement already satisfied: click in /usr/local/lib/python3.10/dist-packages (from nltk) (8.1.7)\n",
            "Requirement already satisfied: joblib in /usr/local/lib/python3.10/dist-packages (from nltk) (1.3.2)\n",
            "Requirement already satisfied: regex>=2021.8.3 in /usr/local/lib/python3.10/dist-packages (from nltk) (2023.12.25)\n",
            "Requirement already satisfied: tqdm in /usr/local/lib/python3.10/dist-packages (from nltk) (4.66.1)\n"
          ]
        }
      ]
    },
    {
      "cell_type": "code",
      "execution_count": 3,
      "metadata": {
        "id": "Xfgz_90WeD0R",
        "colab": {
          "base_uri": "https://localhost:8080/"
        },
        "outputId": "32a7a45d-877a-4485-d920-9cfc00e86ff5"
      },
      "outputs": [
        {
          "output_type": "stream",
          "name": "stderr",
          "text": [
            "[nltk_data] Downloading package punkt to /root/nltk_data...\n",
            "[nltk_data]   Unzipping tokenizers/punkt.zip.\n"
          ]
        },
        {
          "output_type": "execute_result",
          "data": {
            "text/plain": [
              "True"
            ]
          },
          "metadata": {},
          "execution_count": 3
        }
      ],
      "source": [
        "import nltk\n",
        "from nltk import word_tokenize\n",
        "from nltk.tokenize import WordPunctTokenizer\n",
        "nltk.download(\"punkt\")"
      ]
    },
    {
      "cell_type": "code",
      "source": [
        "x =\"He will save and invest for his retirement \"\n",
        "word_tokenize(x)"
      ],
      "metadata": {
        "id": "JSoNDArngozq",
        "colab": {
          "base_uri": "https://localhost:8080/"
        },
        "outputId": "5fad9a64-3ee2-4f9d-bc07-bf173664d142"
      },
      "execution_count": 4,
      "outputs": [
        {
          "output_type": "execute_result",
          "data": {
            "text/plain": [
              "['He', 'will', 'save', 'and', 'invest', 'for', 'his', 'retirement']"
            ]
          },
          "metadata": {},
          "execution_count": 4
        }
      ]
    },
    {
      "cell_type": "code",
      "source": [
        "from nltk.tokenize import RegexpTokenizer\n",
        "\n",
        "tokenizer = RegexpTokenizer(\"[\\w]+\")\n",
        "tokenizer.tokenize(x)"
      ],
      "metadata": {
        "colab": {
          "base_uri": "https://localhost:8080/"
        },
        "id": "p8i1QgsefU7n",
        "outputId": "851fd573-9206-42c9-ecde-555e0c53bf9c"
      },
      "execution_count": 5,
      "outputs": [
        {
          "output_type": "execute_result",
          "data": {
            "text/plain": [
              "['He', 'will', 'save', 'and', 'invest', 'for', 'his', 'retirement']"
            ]
          },
          "metadata": {},
          "execution_count": 5
        }
      ]
    },
    {
      "cell_type": "code",
      "source": [
        "from nltk.tokenize import sent_tokenize, word_tokenize\n",
        "text = \"The code starts by including the necessary libraries which are iostream vector algorithm and numeric\"\n",
        "\n",
        "sent_tokenize"
      ],
      "metadata": {
        "colab": {
          "base_uri": "https://localhost:8080/"
        },
        "id": "VNVjizz2ford",
        "outputId": "f7baeb92-af2e-464c-97b8-54482d6563c7"
      },
      "execution_count": 6,
      "outputs": [
        {
          "output_type": "execute_result",
          "data": {
            "text/plain": [
              "<function nltk.tokenize.sent_tokenize(text, language='english')>"
            ]
          },
          "metadata": {},
          "execution_count": 6
        }
      ]
    },
    {
      "cell_type": "code",
      "source": [
        "word_tokenize(text)"
      ],
      "metadata": {
        "id": "iY4N1UyzgMJH",
        "colab": {
          "base_uri": "https://localhost:8080/"
        },
        "outputId": "8e6ffec2-b8ee-4ba6-d828-69a39dce95c9"
      },
      "execution_count": 7,
      "outputs": [
        {
          "output_type": "execute_result",
          "data": {
            "text/plain": [
              "['The',\n",
              " 'code',\n",
              " 'starts',\n",
              " 'by',\n",
              " 'including',\n",
              " 'the',\n",
              " 'necessary',\n",
              " 'libraries',\n",
              " 'which',\n",
              " 'are',\n",
              " 'iostream',\n",
              " 'vector',\n",
              " 'algorithm',\n",
              " 'and',\n",
              " 'numeric']"
            ]
          },
          "metadata": {},
          "execution_count": 7
        }
      ]
    }
  ]
}