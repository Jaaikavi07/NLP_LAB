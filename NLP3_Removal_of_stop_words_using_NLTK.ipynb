{
  "nbformat": 4,
  "nbformat_minor": 0,
  "metadata": {
    "colab": {
      "provenance": []
    },
    "kernelspec": {
      "name": "python3",
      "display_name": "Python 3"
    },
    "language_info": {
      "name": "python"
    }
  },
  "cells": [
    {
      "cell_type": "code",
      "source": [
        "!pip install ipywidgets"
      ],
      "metadata": {
        "id": "mIbN4b75igI1"
      },
      "execution_count": 16,
      "outputs": []
    },
    {
      "cell_type": "code",
      "execution_count": 27,
      "metadata": {
        "colab": {
          "base_uri": "https://localhost:8080/"
        },
        "id": "W6l9xSohe16j",
        "outputId": "e6d19569-e05a-43ea-c5a3-ecbf51785cf0"
      },
      "outputs": [
        {
          "output_type": "stream",
          "name": "stderr",
          "text": [
            "[nltk_data] Downloading package punkt to /root/nltk_data...\n",
            "[nltk_data]   Unzipping tokenizers/punkt.zip.\n",
            "[nltk_data] Downloading package movie_reviews to /root/nltk_data...\n",
            "[nltk_data]   Package movie_reviews is already up-to-date!\n"
          ]
        },
        {
          "output_type": "execute_result",
          "data": {
            "text/plain": [
              "True"
            ]
          },
          "metadata": {},
          "execution_count": 27
        }
      ],
      "source": [
        "import nltk\n",
        "import pandas as pd\n",
        "nltk.download('punkt')\n",
        "\n",
        "nltk.download('movie_reviews')"
      ]
    },
    {
      "cell_type": "code",
      "source": [
        "from nltk.corpus import movie_reviews"
      ],
      "metadata": {
        "id": "brI_XTM8iZBo"
      },
      "execution_count": 28,
      "outputs": []
    },
    {
      "cell_type": "code",
      "source": [
        "review_para = movie_reviews.paras()[0]\n",
        "review = [\"\".join(i)for i in review_para]\n",
        "review = ''.join(review[0:15])"
      ],
      "metadata": {
        "id": "SqrycQIFkaYl"
      },
      "execution_count": 30,
      "outputs": []
    },
    {
      "cell_type": "code",
      "source": [
        "review"
      ],
      "metadata": {
        "colab": {
          "base_uri": "https://localhost:8080/",
          "height": 123
        },
        "id": "hX-psIUlk2gD",
        "outputId": "addbd3ee-3899-4231-a82e-8c47b1ef5b1e"
      },
      "execution_count": 31,
      "outputs": [
        {
          "output_type": "execute_result",
          "data": {
            "text/plain": [
              "'plot:twoteencouplesgotoachurchparty,drinkandthendrive.theygetintoanaccident.oneoftheguysdies,buthisgirlfriendcontinuestoseehiminherlife,andhasnightmares.what\\'sthedeal?watchthemovieand\"sorta\"findout...critique:amind-fuckmoviefortheteengenerationthattouchesonaverycoolidea,butpresentsitinaverybadpackage.whichiswhatmakesthisreviewanevenharderonetowrite,sinceigenerallyapplaudfilmswhichattempttobreakthemold,messwithyourheadandsuch(losthighway&memento),buttherearegoodandbadwaysofmakingalltypesoffilms,andthesefolksjustdidn\\'tsnagthisonecorrectly.theyseemtohavetakenthisprettyneatconcept,butexecuteditterribly.sowhataretheproblemswiththemovie?well,itsmainproblemisthatit\\'ssimplytoojumbled.itstartsoff\"normal\"butthendownshiftsintothis\"fantasy\"worldinwhichyou,asanaudiencemember,havenoideawhat\\'sgoingon.therearedreams,therearecharacterscomingbackfromthedead,thereareotherswholooklikethedead,therearestrangeapparitions,therearedisappearances,therearealoooootofchasescenes,therearetonsofweirdthingsthathappen,andmostofitissimplynotexplained.nowipersonallydon\\'tmindtryingtounravelafilmeverynowandthen,butwhenallitdoesisgivemethesameclueoverandoveragain,igetkindoffedupafterawhile,whichisthisfilm\\'sbiggestproblem.'"
            ],
            "application/vnd.google.colaboratory.intrinsic+json": {
              "type": "string"
            }
          },
          "metadata": {},
          "execution_count": 31
        }
      ]
    },
    {
      "cell_type": "code",
      "source": [
        "from nltk.tokenize import RegexpTokenizer\n",
        "\n",
        "tokenizer = RegexpTokenizer('\\w+')\n",
        "tokens = tokenizer.tokenize(review)\n",
        "str(tokens[:20])"
      ],
      "metadata": {
        "colab": {
          "base_uri": "https://localhost:8080/",
          "height": 70
        },
        "id": "d7RidNask4_y",
        "outputId": "d307aaf0-6983-4517-a5d9-8d5caac7335f"
      },
      "execution_count": 32,
      "outputs": [
        {
          "output_type": "execute_result",
          "data": {
            "text/plain": [
              "\"['plot', 'twoteencouplesgotoachurchparty', 'drinkandthendrive', 'theygetintoanaccident', 'oneoftheguysdies', 'buthisgirlfriendcontinuestoseehiminherlife', 'andhasnightmares', 'what', 'sthedeal', 'watchthemovieand', 'sorta', 'findout', 'critique', 'amind', 'fuckmoviefortheteengenerationthattouchesonaverycoolidea', 'butpresentsitinaverybadpackage', 'whichiswhatmakesthisreviewanevenharderonetowrite', 'sinceigenerallyapplaudfilmswhichattempttobreakthemold', 'messwithyourheadandsuch', 'losthighway']\""
            ],
            "application/vnd.google.colaboratory.intrinsic+json": {
              "type": "string"
            }
          },
          "metadata": {},
          "execution_count": 32
        }
      ]
    },
    {
      "cell_type": "code",
      "source": [
        "nltk.download('stopwords')\n",
        "from nltk.corpus import stopwords\n",
        "stop_words = stopwords.words('english')\n",
        "print(stop_words[:15])"
      ],
      "metadata": {
        "colab": {
          "base_uri": "https://localhost:8080/"
        },
        "id": "A1A8i6-FlWUb",
        "outputId": "a41bd67f-5ffc-4c7d-fbf3-75f081bb6da7"
      },
      "execution_count": 34,
      "outputs": [
        {
          "output_type": "stream",
          "name": "stdout",
          "text": [
            "['i', 'me', 'my', 'myself', 'we', 'our', 'ours', 'ourselves', 'you', \"you're\", \"you've\", \"you'll\", \"you'd\", 'your', 'yours']\n"
          ]
        },
        {
          "output_type": "stream",
          "name": "stderr",
          "text": [
            "[nltk_data] Downloading package stopwords to /root/nltk_data...\n",
            "[nltk_data]   Unzipping corpora/stopwords.zip.\n"
          ]
        }
      ]
    },
    {
      "cell_type": "code",
      "source": [
        "len(stop_words)"
      ],
      "metadata": {
        "colab": {
          "base_uri": "https://localhost:8080/"
        },
        "id": "WLcM5iqMlwhY",
        "outputId": "195e0b67-8492-4045-e366-e97d2e277c61"
      },
      "execution_count": 35,
      "outputs": [
        {
          "output_type": "execute_result",
          "data": {
            "text/plain": [
              "179"
            ]
          },
          "metadata": {},
          "execution_count": 35
        }
      ]
    },
    {
      "cell_type": "code",
      "source": [
        "if type(stop_words) == list:\n",
        "  stop_words.append('watch')\n",
        "  stop_words.append('sorta')\n",
        "  stop_words.append(':')\n",
        "  stop_words.append(',')\n",
        "  stop_words.remove('it')\n",
        "  stop_words = set(stop_words)\n",
        "  print('No.ofstopwords:'  ,len(stop_words))\n",
        "\n",
        "token_wo_stop_words = [token for token in tokens if not token in stop_words]"
      ],
      "metadata": {
        "colab": {
          "base_uri": "https://localhost:8080/"
        },
        "id": "mLN8ArP6l2du",
        "outputId": "c35efb14-ebbd-4142-a093-9858b179a317"
      },
      "execution_count": 36,
      "outputs": [
        {
          "output_type": "stream",
          "name": "stdout",
          "text": [
            "No.ofstopwords: 182\n"
          ]
        }
      ]
    },
    {
      "cell_type": "code",
      "source": [
        "str(stop_words)"
      ],
      "metadata": {
        "colab": {
          "base_uri": "https://localhost:8080/",
          "height": 123
        },
        "id": "eGpJc8NvpqIY",
        "outputId": "58e95a45-b588-48bd-bcbc-cf18959d816b"
      },
      "execution_count": 37,
      "outputs": [
        {
          "output_type": "execute_result",
          "data": {
            "text/plain": [
              "'{\"didn\\'t\", \\'be\\', \\'ll\\', \\'while\\', \\'in\\', \\'am\\', \\'their\\', \\'hadn\\', \\'he\\', \\'same\\', \\'was\\', \"you\\'d\", \\'himself\\', \\'needn\\', \\'doing\\', \\'the\\', \\'for\\', \\'whom\\', \"that\\'ll\", \\'yours\\', \\'has\\', \\'ma\\', \"isn\\'t\", \\'by\\', \\'doesn\\', \"doesn\\'t\", \\'shan\\', \\'herself\\', \\'just\\', \\'have\\', \\'mustn\\', \\'those\\', \\'ourselves\\', \\'does\\', \\'at\\', \\'what\\', \\'again\\', \\'after\\', \\'and\\', \\'couldn\\', \\'me\\', \\'who\\', \\'these\\', \\'but\\', \\'t\\', \"you\\'ll\", \\'should\\', \\'mightn\\', \\'can\\', \\'i\\', \\'out\\', \\'had\\', \\'watch\\', \"shouldn\\'t\", \\'where\\', \\'are\\', \\'once\\', \\'isn\\', \\'against\\', \\'haven\\', \\'theirs\\', \\'from\\', \\'too\\', \\'between\\', \\'been\\', \\'as\\', \\'further\\', \\'or\\', \\'some\\', \\'re\\', \"wouldn\\'t\", \\'a\\', \\'here\\', \\'with\\', \\'your\\', \\'being\\', \\'down\\', \\'will\\', \\'when\\', \\'yourself\\', \\'hers\\', \\'its\\', \"haven\\'t\", \"mustn\\'t\", \"needn\\'t\", \\'which\\', \\'hasn\\', \\'few\\', \\'other\\', \\'myself\\', \\'sorta\\', \\'you\\', \\'before\\', \\'don\\', \\'if\\', \\'to\\', \"don\\'t\", \\'up\\', \\'itself\\', \\'of\\', \\'why\\', \\'won\\', \\'an\\', \\'most\\', \\'both\\', \\'our\\', \"you\\'re\", \\'more\\', \\'any\\', \\'until\\', \\'weren\\', \\'through\\', \\'themselves\\', \\'were\\', \\'about\\', \\',\\', \\'d\\', \\'because\\', \"hasn\\'t\", \"shan\\'t\", \\'over\\', \\'his\\', \\'ain\\', \\'that\\', \"aren\\'t\", \\'didn\\', \\'into\\', \\'under\\', \\'m\\', \"she\\'s\", \"it\\'s\", \"you\\'ve\", \\'o\\', \"hadn\\'t\", \\'having\\', \\'s\\', \\'not\\', \\'is\\', \\'on\\', \\'do\\', \\'so\\', \\'him\\', \\'own\\', \\'y\\', \"mightn\\'t\", \\'ve\\', \"should\\'ve\", \\'did\\', \\'yourselves\\', \\'then\\', \\'how\\', \\'very\\', \\'off\\', \\'aren\\', \\'shouldn\\', \\'now\\', \\'this\\', \\'them\\', \\'only\\', \\'wasn\\', \\':\\', \\'nor\\', \\'she\\', \\'each\\', \\'ours\\', \\'they\\', \\'no\\', \\'her\\', \\'my\\', \\'than\\', \\'we\\', \\'during\\', \\'there\\', \"wasn\\'t\", \\'below\\', \"weren\\'t\", \\'all\\', \\'such\\', \"couldn\\'t\", \\'above\\', \"won\\'t\", \\'wouldn\\'}'"
            ],
            "application/vnd.google.colaboratory.intrinsic+json": {
              "type": "string"
            }
          },
          "metadata": {},
          "execution_count": 37
        }
      ]
    }
  ]
}